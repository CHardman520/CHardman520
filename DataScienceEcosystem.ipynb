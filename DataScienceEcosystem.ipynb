{
 "cells": [
  {
   "cell_type": "markdown",
   "id": "58c9b0ff-336c-446d-abd4-a7121dd6389d",
   "metadata": {},
   "source": [
    "# Data Science Tools and Ecosystem"
   ]
  },
  {
   "cell_type": "markdown",
   "id": "40201477-4282-45f5-a535-f3a78f25c364",
   "metadata": {},
   "source": [
    "In this notebook, Data Science Tools and Ecosystem are summarized."
   ]
  },
  {
   "cell_type": "markdown",
   "id": "bb5f71e4-1c31-4328-9359-320a362ebccc",
   "metadata": {},
   "source": [
    "**Objectives:**\n",
    "*  List popular languages that Data Scientists use\n",
    "*  List commonly used libraries used by Data Scientists\n",
    "*  Make a table listing the Data Science Tools\n",
    "*  Give some examples of evaluating arithmetic expressions using Python"
   ]
  },
  {
   "cell_type": "markdown",
   "id": "2e312a67-bcf5-4206-8b2d-387d021ca3a7",
   "metadata": {},
   "source": [
    "Some of the popular languages that Data Scientists use are:\n",
    "1. Python\n",
    "2. R\n",
    "3. Julia"
   ]
  },
  {
   "cell_type": "markdown",
   "id": "74fca8f8-cbf7-468c-96cb-fe6e211d5a0b",
   "metadata": {},
   "source": [
    "Some of the commonly used libraries used by Data Scientists include:\n",
    "1. Pandas\n",
    "2. Scipy\n",
    "3. NumPy"
   ]
  },
  {
   "cell_type": "markdown",
   "id": "ad3fcf99-b0ee-4cd9-b767-8c61ae21d81a",
   "metadata": {},
   "source": [
    "|Data Science Tools|\n",
    "|:----------------:|\n",
    "|   Tensor Flow    |\n",
    "|   Apache Spark   |\n",
    "|    R Studio      |\n",
    "    "
   ]
  },
  {
   "cell_type": "markdown",
   "id": "aa4200e2-c5cb-420e-8700-ba326b77ee7a",
   "metadata": {},
   "source": [
    "### Below are some examples of evaluating arithmetic expressions in Python:"
   ]
  },
  {
   "cell_type": "code",
   "execution_count": 5,
   "id": "28ade513-88bc-490f-a493-ef1b5a45e614",
   "metadata": {},
   "outputs": [
    {
     "data": {
      "text/plain": [
       "17"
      ]
     },
     "execution_count": 5,
     "metadata": {},
     "output_type": "execute_result"
    }
   ],
   "source": [
    "(3*4)+5"
   ]
  },
  {
   "cell_type": "code",
   "execution_count": 6,
   "id": "dd099581-49fc-4a9f-9deb-0a7f901c7851",
   "metadata": {},
   "outputs": [
    {
     "data": {
      "text/plain": [
       "3.3333333333333335"
      ]
     },
     "execution_count": 6,
     "metadata": {},
     "output_type": "execute_result"
    }
   ],
   "source": [
    "#This will convert 200 minutes to hours by diving by 60\n",
    "200/60"
   ]
  },
  {
   "cell_type": "markdown",
   "id": "3ef7f7d3-22e9-413a-8fa6-a372b0f280b5",
   "metadata": {},
   "source": [
    "## Author\n",
    "Carlesia Hardman (Carli)"
   ]
  },
  {
   "cell_type": "code",
   "execution_count": null,
   "id": "52a22615-b902-4d99-a517-4ec7d27aeb1a",
   "metadata": {},
   "outputs": [],
   "source": []
  }
 ],
 "metadata": {
  "kernelspec": {
   "display_name": "Python 3 (ipykernel)",
   "language": "python",
   "name": "python3"
  },
  "language_info": {
   "codemirror_mode": {
    "name": "ipython",
    "version": 3
   },
   "file_extension": ".py",
   "mimetype": "text/x-python",
   "name": "python",
   "nbconvert_exporter": "python",
   "pygments_lexer": "ipython3",
   "version": "3.12.4"
  }
 },
 "nbformat": 4,
 "nbformat_minor": 5
}
